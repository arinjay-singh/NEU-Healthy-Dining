{
 "cells": [
  {
   "attachments": {},
   "cell_type": "markdown",
   "metadata": {},
   "source": [
    "# Scraping A Large Dataset of Foods"
   ]
  },
  {
   "attachments": {},
   "cell_type": "markdown",
   "metadata": {},
   "source": [
    "## Getting the lists of foods for training\n",
    "in order to get a list of foods for training, we will be scraping the website \"Open Food Facts\" that has thousands of foods, their nutrition facts, as well as their Nutri-score"
   ]
  },
  {
   "attachments": {},
   "cell_type": "markdown",
   "metadata": {},
   "source": [
    "## Step 1: Get the list of foods from the dataset\n",
    "This takes about a while, so we have saved the data to a csv to load to save time"
   ]
  },
  {
   "cell_type": "code",
   "execution_count": 3,
   "metadata": {},
   "outputs": [],
   "source": [
    "from bs4 import BeautifulSoup\n",
    "import requests\n",
    "import pandas as pd\n",
    "\n",
    "def get_food_links(url):\n",
    "    '''Takes a url and returns a dataframe with the food names and links to the food pages\n",
    "    \n",
    "    Args:\n",
    "        url (str): url to scrape\n",
    "\n",
    "    Returns:\n",
    "        foods (dataframe): dataframe with food names and links to the food pages\n",
    "    '''\n",
    "\n",
    "    # Get the data\n",
    "    r = requests.get(url)\n",
    "    # soup response\n",
    "    soup = BeautifulSoup(r.text, \"html.parser\")\n",
    "    # Create a dataframe\n",
    "    foods = pd.DataFrame(columns=[\"name\", \"url\"])\n",
    "    foods = foods.set_index(\"name\")\n",
    "\n",
    "    # Get unordered list of foods\n",
    "    ul = soup.find_all('ul')[10]\n",
    "    # Get the links from the foods\n",
    "    a = ul.find_all('a')\n",
    "    for i in a:\n",
    "        # extract and add their title and href to the dataframe\n",
    "        foods.loc[i.get(\"title\")] = \"https://us.openfoodfacts.org\"+i.get(\"href\")\n",
    "        \n",
    "    return foods"
   ]
  },
  {
   "cell_type": "code",
   "execution_count": 4,
   "metadata": {},
   "outputs": [],
   "source": [
    "df_food_links = pd.DataFrame(columns=[\"name\", \"url\"])\n",
    "df_food_links = df_food_links.set_index(\"name\")\n",
    "\n",
    "for i in range(1, 500):\n",
    "    url = \"https://us.openfoodfacts.org/\" + str(i)\n",
    "    df_food_links = pd.concat([df_food_links, get_food_links(url)])\n",
    "    if (i % 5 == 0):\n",
    "        df_food_links.to_csv(\"food_links.csv\")\n",
    "\n",
    "df_food_links.to_csv(\"food_links.csv\")"
   ]
  },
  {
   "attachments": {},
   "cell_type": "markdown",
   "metadata": {},
   "source": [
    "### Load CSV"
   ]
  },
  {
   "cell_type": "code",
   "execution_count": 1,
   "metadata": {},
   "outputs": [
    {
     "ename": "NameError",
     "evalue": "name 'pd' is not defined",
     "output_type": "error",
     "traceback": [
      "\u001b[1;31m---------------------------------------------------------------------------\u001b[0m",
      "\u001b[1;31mNameError\u001b[0m                                 Traceback (most recent call last)",
      "Cell \u001b[1;32mIn[1], line 1\u001b[0m\n\u001b[1;32m----> 1\u001b[0m df_food_links \u001b[39m=\u001b[39m pd\u001b[39m.\u001b[39mread_csv(\u001b[39m\"\u001b[39m\u001b[39mfood_links.csv\u001b[39m\u001b[39m\"\u001b[39m)\n",
      "\u001b[1;31mNameError\u001b[0m: name 'pd' is not defined"
     ]
    }
   ],
   "source": [
    "df_food_links = pd.read_csv(\"food_links.csv\")"
   ]
  },
  {
   "attachments": {},
   "cell_type": "markdown",
   "metadata": {},
   "source": [
    "## Step 2: Finding the nutritional data from each foods"
   ]
  },
  {
   "attachments": {},
   "cell_type": "markdown",
   "metadata": {},
   "source": [
    "### Finding the Nutri-score for each food"
   ]
  },
  {
   "cell_type": "code",
   "execution_count": 6,
   "metadata": {},
   "outputs": [],
   "source": [
    "from bs4 import BeautifulSoup\n",
    "import requests\n",
    "\n",
    "\n",
    "def find_nutriscore(url):\n",
    "    \"\"\"Find the nutriscore of the product\n",
    "    \n",
    "    Args:\n",
    "        url (str): url of the product\n",
    "        \n",
    "    Returns:\n",
    "        nutriscore (int): nutriscore of the product\"\"\"\n",
    "    response = requests.get(url)\n",
    "    soup = BeautifulSoup(response.text)\n",
    "    strongs = soup.find_all('strong')\n",
    "    for strong in strongs:\n",
    "        if strong is not None:\n",
    "            if ('Score nutritionnel' in strong.text):\n",
    "                return strong.text.split(\": \")[1]"
   ]
  },
  {
   "attachments": {},
   "cell_type": "markdown",
   "metadata": {},
   "source": [
    "### Extracting the nutritional data for each food"
   ]
  },
  {
   "cell_type": "code",
   "execution_count": 7,
   "metadata": {},
   "outputs": [],
   "source": [
    "''' \n",
    "So currently, this function isn't optimal\n",
    "- Issues with the dataframe, where the column titles we want in the main dataframe are all stored in a column and\n",
    "  values are stored in the column next to it\n",
    "- I guess we could look at the 100g/100ml column, or the serving size column(just need to drop some columns on the end of scraped df)\n",
    "- Need to figure out which nutrient rows to keep and which to get rid of, not all food items have the same things\n",
    "  - Could just add a 0 or NULL value if it doesn't exist, but then normalizing would get weird because we have to drop NaN values\n",
    "- I completely forgot to scrape the nutrition score letter\n",
    "'''\n",
    "\n",
    "\n",
    "\n",
    "def extract_nutrition(url):\n",
    "    \"\"\" takes href input to pull out the nutrition information\n",
    "\n",
    "    Args:\n",
    "        url (str): link to pull nutrition information from\n",
    "\n",
    "    Output:\n",
    "        table (dataframe): something to add onto the row of the original dataframe\n",
    "    \"\"\"\n",
    "    # get all tables\n",
    "    list_of_tables = pd.read_html(url)\n",
    "    \n",
    "    # select table of nutrients\n",
    "    table = list_of_tables[0]\n",
    "    table[\"Nutrient\"] = table[\"Nutrition facts\"]\n",
    "\n",
    "    # get only the column that is as sold for 100g or 100ml and the nutrients\n",
    "    table = table[['As sold for 100 g / 100 ml', 'Nutrient']]\n",
    "\n",
    "    table = table.set_index('Nutrient')\n",
    "    table.loc['nutriscore'] = find_nutriscore(url)\n",
    "\n",
    "    return table"
   ]
  },
  {
   "cell_type": "code",
   "execution_count": 8,
   "metadata": {},
   "outputs": [],
   "source": [
    "example_food = extract_nutrition(\"https://us.openfoodfacts.org/product/3017620422003/nutella-ferrero\")"
   ]
  },
  {
   "cell_type": "code",
   "execution_count": 9,
   "metadata": {},
   "outputs": [
    {
     "data": {
      "text/html": [
       "<div>\n",
       "<style scoped>\n",
       "    .dataframe tbody tr th:only-of-type {\n",
       "        vertical-align: middle;\n",
       "    }\n",
       "\n",
       "    .dataframe tbody tr th {\n",
       "        vertical-align: top;\n",
       "    }\n",
       "\n",
       "    .dataframe thead th {\n",
       "        text-align: right;\n",
       "    }\n",
       "</style>\n",
       "<table border=\"1\" class=\"dataframe\">\n",
       "  <thead>\n",
       "    <tr style=\"text-align: right;\">\n",
       "      <th></th>\n",
       "      <th>As sold for 100 g / 100 ml</th>\n",
       "    </tr>\n",
       "    <tr>\n",
       "      <th>Nutrient</th>\n",
       "      <th></th>\n",
       "    </tr>\n",
       "  </thead>\n",
       "  <tbody>\n",
       "    <tr>\n",
       "      <th>Energy</th>\n",
       "      <td>2,252 kj (539 kcal)</td>\n",
       "    </tr>\n",
       "    <tr>\n",
       "      <th>Fat</th>\n",
       "      <td>30.9 g</td>\n",
       "    </tr>\n",
       "    <tr>\n",
       "      <th>Saturated fat</th>\n",
       "      <td>10.6 g</td>\n",
       "    </tr>\n",
       "    <tr>\n",
       "      <th>Salt</th>\n",
       "      <td>0.107 g</td>\n",
       "    </tr>\n",
       "    <tr>\n",
       "      <th>Carbohydrates</th>\n",
       "      <td>57.5 g</td>\n",
       "    </tr>\n",
       "    <tr>\n",
       "      <th>Sugars</th>\n",
       "      <td>56.3 g</td>\n",
       "    </tr>\n",
       "    <tr>\n",
       "      <th>Proteins</th>\n",
       "      <td>6.3 g</td>\n",
       "    </tr>\n",
       "    <tr>\n",
       "      <th>Alcohol</th>\n",
       "      <td>0 % vol</td>\n",
       "    </tr>\n",
       "    <tr>\n",
       "      <th>Fruits‚ vegetables‚ nuts and rapeseed‚ walnut and olive oils (estimate from ingredients list analysis)</th>\n",
       "      <td>0 %</td>\n",
       "    </tr>\n",
       "    <tr>\n",
       "      <th>nutriscore</th>\n",
       "      <td>26</td>\n",
       "    </tr>\n",
       "  </tbody>\n",
       "</table>\n",
       "</div>"
      ],
      "text/plain": [
       "                                                   As sold for 100 g / 100 ml\n",
       "Nutrient                                                                     \n",
       "Energy                                                    2,252 kj (539 kcal)\n",
       "Fat                                                                    30.9 g\n",
       "Saturated fat                                                          10.6 g\n",
       "Salt                                                                  0.107 g\n",
       "Carbohydrates                                                          57.5 g\n",
       "Sugars                                                                 56.3 g\n",
       "Proteins                                                                6.3 g\n",
       "Alcohol                                                               0 % vol\n",
       "Fruits‚ vegetables‚ nuts and rapeseed‚ walnut a...                        0 %\n",
       "nutriscore                                                                 26"
      ]
     },
     "execution_count": 9,
     "metadata": {},
     "output_type": "execute_result"
    }
   ],
   "source": [
    "example_food"
   ]
  },
  {
   "cell_type": "code",
   "execution_count": 10,
   "metadata": {},
   "outputs": [],
   "source": [
    "def format_food(name, item_df):\n",
    "    \"\"\" formats this item dataframe to be added to the main dataframe\n",
    "    \n",
    "    Args:\n",
    "        name (str): name of the food item\n",
    "        item_df (dataframe): dataframe of the food item to be formatted\n",
    "        \n",
    "    Returns:\n",
    "        new_item_df (dataframe): formatted dataframe\n",
    "    \"\"\"\n",
    "\n",
    "    new_item_df = item_df.swapaxes(\"index\", \"columns\")\n",
    "    new_item_df = new_item_df.reset_index(drop=True)\n",
    "    new_item_df[\"item\"] = name\n",
    "    new_item_df = new_item_df.set_index(\"item\")\n",
    "    \n",
    "    return new_item_df"
   ]
  },
  {
   "attachments": {},
   "cell_type": "markdown",
   "metadata": {},
   "source": [
    "### Putting new nutritional information into a new training pandas dataframe"
   ]
  },
  {
   "cell_type": "code",
   "execution_count": 12,
   "metadata": {},
   "outputs": [
    {
     "name": "stderr",
     "output_type": "stream",
     "text": [
      "Extracting Nutritional Information: 48it [01:46,  2.16s/it]"
     ]
    },
    {
     "name": "stdout",
     "output_type": "stream",
     "text": [
      "Error. Skipping...\n"
     ]
    },
    {
     "name": "stderr",
     "output_type": "stream",
     "text": [
      "Extracting Nutritional Information: 153it [05:47,  1.67s/it]"
     ]
    },
    {
     "name": "stdout",
     "output_type": "stream",
     "text": [
      "Error. Skipping...\n"
     ]
    },
    {
     "name": "stderr",
     "output_type": "stream",
     "text": [
      "Extracting Nutritional Information: 175it [06:34,  1.91s/it]"
     ]
    },
    {
     "name": "stdout",
     "output_type": "stream",
     "text": [
      "Error. Skipping...\n"
     ]
    },
    {
     "name": "stderr",
     "output_type": "stream",
     "text": [
      "Extracting Nutritional Information: 188it [07:02,  1.80s/it]"
     ]
    },
    {
     "name": "stdout",
     "output_type": "stream",
     "text": [
      "Error. Skipping...\n"
     ]
    },
    {
     "name": "stderr",
     "output_type": "stream",
     "text": [
      "Extracting Nutritional Information: 249it [09:16,  1.90s/it]"
     ]
    },
    {
     "name": "stdout",
     "output_type": "stream",
     "text": [
      "Error. Skipping...\n"
     ]
    },
    {
     "name": "stderr",
     "output_type": "stream",
     "text": [
      "Extracting Nutritional Information: 286it [10:36,  1.94s/it]"
     ]
    },
    {
     "name": "stdout",
     "output_type": "stream",
     "text": [
      "Error. Skipping...\n"
     ]
    },
    {
     "name": "stderr",
     "output_type": "stream",
     "text": [
      "Extracting Nutritional Information: 323it [12:07,  1.82s/it]"
     ]
    },
    {
     "name": "stdout",
     "output_type": "stream",
     "text": [
      "Error. Skipping...\n"
     ]
    },
    {
     "name": "stderr",
     "output_type": "stream",
     "text": [
      "Extracting Nutritional Information: 345it [12:54,  1.78s/it]"
     ]
    },
    {
     "name": "stdout",
     "output_type": "stream",
     "text": [
      "Error. Skipping...\n"
     ]
    },
    {
     "name": "stderr",
     "output_type": "stream",
     "text": [
      "Extracting Nutritional Information: 399it [14:51,  2.02s/it]"
     ]
    },
    {
     "name": "stdout",
     "output_type": "stream",
     "text": [
      "Error. Skipping...\n"
     ]
    },
    {
     "name": "stderr",
     "output_type": "stream",
     "text": [
      "Extracting Nutritional Information: 402it [14:57,  1.99s/it]"
     ]
    },
    {
     "name": "stdout",
     "output_type": "stream",
     "text": [
      "Error. Skipping...\n"
     ]
    },
    {
     "name": "stderr",
     "output_type": "stream",
     "text": [
      "Extracting Nutritional Information: 415it [15:24,  1.85s/it]"
     ]
    },
    {
     "name": "stdout",
     "output_type": "stream",
     "text": [
      "Error. Skipping...\n"
     ]
    },
    {
     "name": "stderr",
     "output_type": "stream",
     "text": [
      "Extracting Nutritional Information: 463it [17:03,  1.83s/it]"
     ]
    },
    {
     "name": "stdout",
     "output_type": "stream",
     "text": [
      "Error. Skipping...\n"
     ]
    },
    {
     "name": "stderr",
     "output_type": "stream",
     "text": [
      "Extracting Nutritional Information: 577it [21:32,  1.94s/it]"
     ]
    },
    {
     "name": "stdout",
     "output_type": "stream",
     "text": [
      "Error. Skipping...\n"
     ]
    },
    {
     "name": "stderr",
     "output_type": "stream",
     "text": [
      "Extracting Nutritional Information: 601it [22:23,  1.88s/it]"
     ]
    },
    {
     "name": "stdout",
     "output_type": "stream",
     "text": [
      "Error. Skipping...\n"
     ]
    },
    {
     "name": "stderr",
     "output_type": "stream",
     "text": [
      "Extracting Nutritional Information: 652it [24:09,  1.85s/it]"
     ]
    },
    {
     "name": "stdout",
     "output_type": "stream",
     "text": [
      "Error. Skipping...\n"
     ]
    },
    {
     "name": "stderr",
     "output_type": "stream",
     "text": [
      "Extracting Nutritional Information: 812it [47:26,  1.77s/it] "
     ]
    },
    {
     "name": "stdout",
     "output_type": "stream",
     "text": [
      "Error. Skipping...\n"
     ]
    },
    {
     "name": "stderr",
     "output_type": "stream",
     "text": [
      "Extracting Nutritional Information: 986it [53:24,  1.87s/it]"
     ]
    },
    {
     "name": "stdout",
     "output_type": "stream",
     "text": [
      "Error. Skipping...\n"
     ]
    },
    {
     "name": "stderr",
     "output_type": "stream",
     "text": [
      "Extracting Nutritional Information: 1050it [55:34,  1.68s/it]"
     ]
    },
    {
     "name": "stdout",
     "output_type": "stream",
     "text": [
      "Error. Skipping...\n"
     ]
    },
    {
     "name": "stderr",
     "output_type": "stream",
     "text": [
      "Extracting Nutritional Information: 1102it [58:07,  1.91s/it]"
     ]
    },
    {
     "name": "stdout",
     "output_type": "stream",
     "text": [
      "Error. Skipping...\n"
     ]
    },
    {
     "name": "stderr",
     "output_type": "stream",
     "text": [
      "Extracting Nutritional Information: 1367it [1:07:43,  1.86s/it]"
     ]
    },
    {
     "name": "stdout",
     "output_type": "stream",
     "text": [
      "Error. Skipping...\n"
     ]
    },
    {
     "name": "stderr",
     "output_type": "stream",
     "text": [
      "Extracting Nutritional Information: 1493it [1:12:54,  1.88s/it]"
     ]
    },
    {
     "name": "stdout",
     "output_type": "stream",
     "text": [
      "Error. Skipping...\n"
     ]
    },
    {
     "name": "stderr",
     "output_type": "stream",
     "text": [
      "Extracting Nutritional Information: 1652it [1:19:22,  2.26s/it]"
     ]
    },
    {
     "name": "stdout",
     "output_type": "stream",
     "text": [
      "Error. Skipping...\n"
     ]
    },
    {
     "name": "stderr",
     "output_type": "stream",
     "text": [
      "Extracting Nutritional Information: 1716it [1:21:57,  2.09s/it]"
     ]
    },
    {
     "name": "stdout",
     "output_type": "stream",
     "text": [
      "Error. Skipping...\n"
     ]
    },
    {
     "name": "stderr",
     "output_type": "stream",
     "text": [
      "Extracting Nutritional Information: 1838it [1:27:11,  1.84s/it]"
     ]
    },
    {
     "name": "stdout",
     "output_type": "stream",
     "text": [
      "Error. Skipping...\n"
     ]
    },
    {
     "name": "stderr",
     "output_type": "stream",
     "text": [
      "Extracting Nutritional Information: 2000it [1:34:31,  3.36s/it]"
     ]
    },
    {
     "name": "stdout",
     "output_type": "stream",
     "text": [
      "Error. Skipping...\n"
     ]
    },
    {
     "name": "stderr",
     "output_type": "stream",
     "text": [
      "Extracting Nutritional Information: 2090it [1:38:04,  1.79s/it]"
     ]
    },
    {
     "name": "stdout",
     "output_type": "stream",
     "text": [
      "Error. Skipping...\n"
     ]
    },
    {
     "name": "stderr",
     "output_type": "stream",
     "text": [
      "Extracting Nutritional Information: 2233it [1:43:16,  1.68s/it]"
     ]
    },
    {
     "name": "stdout",
     "output_type": "stream",
     "text": [
      "Error. Skipping...\n"
     ]
    },
    {
     "name": "stderr",
     "output_type": "stream",
     "text": [
      "Extracting Nutritional Information: 2583it [1:56:04,  1.92s/it]"
     ]
    },
    {
     "name": "stdout",
     "output_type": "stream",
     "text": [
      "Error. Skipping...\n"
     ]
    },
    {
     "name": "stderr",
     "output_type": "stream",
     "text": [
      "Extracting Nutritional Information: 2612it [1:57:23,  1.96s/it]"
     ]
    },
    {
     "name": "stdout",
     "output_type": "stream",
     "text": [
      "Error. Skipping...\n"
     ]
    },
    {
     "name": "stderr",
     "output_type": "stream",
     "text": [
      "Extracting Nutritional Information: 2624it [1:57:47,  2.02s/it]"
     ]
    },
    {
     "name": "stdout",
     "output_type": "stream",
     "text": [
      "Error. Skipping...\n"
     ]
    },
    {
     "name": "stderr",
     "output_type": "stream",
     "text": [
      "Extracting Nutritional Information: 2749it [2:02:15,  2.10s/it]"
     ]
    },
    {
     "name": "stdout",
     "output_type": "stream",
     "text": [
      "Error. Skipping...\n"
     ]
    },
    {
     "name": "stderr",
     "output_type": "stream",
     "text": [
      "Extracting Nutritional Information: 2909it [2:07:53,  1.93s/it]"
     ]
    },
    {
     "name": "stdout",
     "output_type": "stream",
     "text": [
      "Error. Skipping...\n"
     ]
    },
    {
     "name": "stderr",
     "output_type": "stream",
     "text": [
      "Extracting Nutritional Information: 3087it [2:14:13,  1.95s/it]"
     ]
    },
    {
     "name": "stdout",
     "output_type": "stream",
     "text": [
      "Error. Skipping...\n"
     ]
    },
    {
     "name": "stderr",
     "output_type": "stream",
     "text": [
      "Extracting Nutritional Information: 3333it [2:24:05,  2.08s/it]"
     ]
    },
    {
     "name": "stdout",
     "output_type": "stream",
     "text": [
      "Error. Skipping...\n"
     ]
    },
    {
     "name": "stderr",
     "output_type": "stream",
     "text": [
      "Extracting Nutritional Information: 3422it [2:28:12,  1.86s/it]"
     ]
    },
    {
     "name": "stdout",
     "output_type": "stream",
     "text": [
      "Error. Skipping...\n"
     ]
    },
    {
     "name": "stderr",
     "output_type": "stream",
     "text": [
      "Extracting Nutritional Information: 3456it [2:29:42,  1.92s/it]"
     ]
    },
    {
     "name": "stdout",
     "output_type": "stream",
     "text": [
      "Error. Skipping...\n"
     ]
    },
    {
     "name": "stderr",
     "output_type": "stream",
     "text": [
      "Extracting Nutritional Information: 3497it [2:31:06,  1.86s/it]"
     ]
    },
    {
     "name": "stdout",
     "output_type": "stream",
     "text": [
      "Error. Skipping...\n"
     ]
    },
    {
     "name": "stderr",
     "output_type": "stream",
     "text": [
      "Extracting Nutritional Information: 3771it [2:40:41,  1.85s/it]"
     ]
    },
    {
     "name": "stdout",
     "output_type": "stream",
     "text": [
      "Error. Skipping...\n"
     ]
    },
    {
     "name": "stderr",
     "output_type": "stream",
     "text": [
      "Extracting Nutritional Information: 4036it [2:50:34,  1.88s/it]"
     ]
    },
    {
     "name": "stdout",
     "output_type": "stream",
     "text": [
      "Error. Skipping...\n"
     ]
    },
    {
     "name": "stderr",
     "output_type": "stream",
     "text": [
      "Extracting Nutritional Information: 4201it [2:56:04,  1.71s/it]"
     ]
    },
    {
     "name": "stdout",
     "output_type": "stream",
     "text": [
      "Error. Skipping...\n"
     ]
    },
    {
     "name": "stderr",
     "output_type": "stream",
     "text": [
      "Extracting Nutritional Information: 4208it [2:56:15,  1.67s/it]"
     ]
    },
    {
     "name": "stdout",
     "output_type": "stream",
     "text": [
      "Error. Skipping...\n"
     ]
    },
    {
     "name": "stderr",
     "output_type": "stream",
     "text": [
      "Extracting Nutritional Information: 4220it [2:56:42,  1.91s/it]"
     ]
    },
    {
     "name": "stdout",
     "output_type": "stream",
     "text": [
      "Error. Skipping...\n"
     ]
    },
    {
     "name": "stderr",
     "output_type": "stream",
     "text": [
      "Extracting Nutritional Information: 4236it [2:57:15,  1.75s/it]"
     ]
    },
    {
     "name": "stdout",
     "output_type": "stream",
     "text": [
      "Error. Skipping...\n"
     ]
    },
    {
     "name": "stderr",
     "output_type": "stream",
     "text": [
      "Extracting Nutritional Information: 4239it [2:57:21,  2.00s/it]"
     ]
    },
    {
     "name": "stdout",
     "output_type": "stream",
     "text": [
      "Error. Skipping...\n"
     ]
    },
    {
     "name": "stderr",
     "output_type": "stream",
     "text": [
      "Extracting Nutritional Information: 4328it [3:00:16,  1.73s/it]"
     ]
    },
    {
     "name": "stdout",
     "output_type": "stream",
     "text": [
      "Error. Skipping...\n"
     ]
    },
    {
     "name": "stderr",
     "output_type": "stream",
     "text": [
      "Extracting Nutritional Information: 4380it [3:01:59,  1.80s/it]"
     ]
    },
    {
     "name": "stdout",
     "output_type": "stream",
     "text": [
      "Error. Skipping...\n"
     ]
    },
    {
     "name": "stderr",
     "output_type": "stream",
     "text": [
      "Extracting Nutritional Information: 4431it [3:03:39,  1.90s/it]"
     ]
    },
    {
     "name": "stdout",
     "output_type": "stream",
     "text": [
      "Error. Skipping...\n"
     ]
    },
    {
     "name": "stderr",
     "output_type": "stream",
     "text": [
      "Extracting Nutritional Information: 4530it [3:06:53,  1.85s/it]"
     ]
    },
    {
     "name": "stdout",
     "output_type": "stream",
     "text": [
      "Error. Skipping...\n"
     ]
    },
    {
     "name": "stderr",
     "output_type": "stream",
     "text": [
      "Extracting Nutritional Information: 4557it [3:07:45,  1.63s/it]"
     ]
    },
    {
     "name": "stdout",
     "output_type": "stream",
     "text": [
      "Error. Skipping...\n"
     ]
    },
    {
     "name": "stderr",
     "output_type": "stream",
     "text": [
      "Extracting Nutritional Information: 4721it [3:13:10,  1.79s/it]"
     ]
    },
    {
     "name": "stdout",
     "output_type": "stream",
     "text": [
      "Error. Skipping...\n"
     ]
    },
    {
     "name": "stderr",
     "output_type": "stream",
     "text": [
      "Extracting Nutritional Information: 4742it [3:13:55,  1.81s/it]"
     ]
    },
    {
     "name": "stdout",
     "output_type": "stream",
     "text": [
      "Error. Skipping...\n"
     ]
    },
    {
     "name": "stderr",
     "output_type": "stream",
     "text": [
      "Extracting Nutritional Information: 4749it [3:14:07,  1.63s/it]"
     ]
    },
    {
     "name": "stdout",
     "output_type": "stream",
     "text": [
      "Error. Skipping...\n"
     ]
    },
    {
     "name": "stderr",
     "output_type": "stream",
     "text": [
      "Extracting Nutritional Information: 4766it [3:14:41,  1.75s/it]"
     ]
    },
    {
     "name": "stdout",
     "output_type": "stream",
     "text": [
      "Error. Skipping...\n"
     ]
    },
    {
     "name": "stderr",
     "output_type": "stream",
     "text": [
      "Extracting Nutritional Information: 4992it [3:22:45,  2.11s/it]"
     ]
    },
    {
     "name": "stdout",
     "output_type": "stream",
     "text": [
      "Error. Skipping...\n"
     ]
    },
    {
     "name": "stderr",
     "output_type": "stream",
     "text": [
      "Extracting Nutritional Information: 5145it [3:28:38,  1.90s/it]"
     ]
    },
    {
     "name": "stdout",
     "output_type": "stream",
     "text": [
      "Error. Skipping...\n"
     ]
    },
    {
     "name": "stderr",
     "output_type": "stream",
     "text": [
      "Extracting Nutritional Information: 5248it [3:32:07,  1.73s/it]"
     ]
    },
    {
     "name": "stdout",
     "output_type": "stream",
     "text": [
      "Error. Skipping...\n"
     ]
    },
    {
     "name": "stderr",
     "output_type": "stream",
     "text": [
      "Extracting Nutritional Information: 5313it [3:34:07,  1.63s/it]"
     ]
    },
    {
     "name": "stdout",
     "output_type": "stream",
     "text": [
      "Error. Skipping...\n"
     ]
    },
    {
     "name": "stderr",
     "output_type": "stream",
     "text": [
      "Extracting Nutritional Information: 5327it [3:34:56,  3.97s/it]"
     ]
    },
    {
     "name": "stdout",
     "output_type": "stream",
     "text": [
      "Error. Skipping...\n"
     ]
    },
    {
     "name": "stderr",
     "output_type": "stream",
     "text": [
      "Extracting Nutritional Information: 5343it [3:35:25,  1.75s/it]"
     ]
    },
    {
     "name": "stdout",
     "output_type": "stream",
     "text": [
      "Error. Skipping...\n"
     ]
    },
    {
     "name": "stderr",
     "output_type": "stream",
     "text": [
      "Extracting Nutritional Information: 5351it [3:35:40,  1.67s/it]"
     ]
    },
    {
     "name": "stdout",
     "output_type": "stream",
     "text": [
      "Error. Skipping...\n"
     ]
    },
    {
     "name": "stderr",
     "output_type": "stream",
     "text": [
      "Extracting Nutritional Information: 5368it [3:36:10,  1.84s/it]"
     ]
    },
    {
     "name": "stdout",
     "output_type": "stream",
     "text": [
      "Error. Skipping...\n"
     ]
    },
    {
     "name": "stderr",
     "output_type": "stream",
     "text": [
      "Extracting Nutritional Information: 5602it [3:43:54,  1.74s/it]"
     ]
    },
    {
     "name": "stdout",
     "output_type": "stream",
     "text": [
      "Error. Skipping...\n"
     ]
    },
    {
     "name": "stderr",
     "output_type": "stream",
     "text": [
      "Extracting Nutritional Information: 5736it [3:47:54,  1.54s/it]"
     ]
    },
    {
     "name": "stdout",
     "output_type": "stream",
     "text": [
      "Error. Skipping...\n"
     ]
    },
    {
     "name": "stderr",
     "output_type": "stream",
     "text": [
      "Extracting Nutritional Information: 5844it [3:51:18,  1.95s/it]"
     ]
    },
    {
     "name": "stdout",
     "output_type": "stream",
     "text": [
      "Error. Skipping...\n"
     ]
    },
    {
     "name": "stderr",
     "output_type": "stream",
     "text": [
      "Extracting Nutritional Information: 5881it [3:52:23,  1.55s/it]"
     ]
    },
    {
     "name": "stdout",
     "output_type": "stream",
     "text": [
      "Error. Skipping...\n"
     ]
    },
    {
     "name": "stderr",
     "output_type": "stream",
     "text": [
      "Extracting Nutritional Information: 5919it [3:53:35,  1.77s/it]"
     ]
    },
    {
     "name": "stdout",
     "output_type": "stream",
     "text": [
      "Error. Skipping...\n"
     ]
    },
    {
     "name": "stderr",
     "output_type": "stream",
     "text": [
      "Extracting Nutritional Information: 5960it [3:54:39,  1.47s/it]"
     ]
    },
    {
     "name": "stdout",
     "output_type": "stream",
     "text": [
      "Error. Skipping...\n"
     ]
    },
    {
     "name": "stderr",
     "output_type": "stream",
     "text": [
      "Extracting Nutritional Information: 6254it [4:05:15,  2.50s/it]"
     ]
    },
    {
     "name": "stdout",
     "output_type": "stream",
     "text": [
      "Error. Skipping...\n"
     ]
    },
    {
     "name": "stderr",
     "output_type": "stream",
     "text": [
      "Extracting Nutritional Information: 6255it [4:05:17,  2.48s/it]"
     ]
    },
    {
     "name": "stdout",
     "output_type": "stream",
     "text": [
      "Error. Skipping...\n"
     ]
    },
    {
     "name": "stderr",
     "output_type": "stream",
     "text": [
      "Extracting Nutritional Information: 6641it [4:18:48,  2.08s/it]"
     ]
    },
    {
     "name": "stdout",
     "output_type": "stream",
     "text": [
      "Error. Skipping...\n"
     ]
    },
    {
     "name": "stderr",
     "output_type": "stream",
     "text": [
      "Extracting Nutritional Information: 6772it [4:23:54,  1.94s/it]"
     ]
    }
   ],
   "source": [
    "from tqdm import tqdm \n",
    "import warnings\n",
    "\n",
    "warnings.filterwarnings(\"ignore\")\n",
    "\n",
    "df_train = pd.DataFrame()\n",
    "\n",
    "# for each row in the dataframe, get the nutrition information\n",
    "for index, row in tqdm(df_food_links.iterrows(), \"Extracting Nutritional Information\"):\n",
    "    try:\n",
    "        df_to_add = format_food(row['name'], extract_nutrition(row['url']))\n",
    "        df_train = pd.concat([df_train, df_to_add])\n",
    "        # export to csv\n",
    "        if (index % 10 == 0):\n",
    "            df_train.to_csv(\"train_unprocessed.csv\")\n",
    "    except:\n",
    "        continue"
   ]
  },
  {
   "cell_type": "code",
   "execution_count": null,
   "metadata": {},
   "outputs": [],
   "source": [
    "df = pd.read_csv(\"train_unprocessed.csv\")\n",
    "df"
   ]
  },
  {
   "cell_type": "code",
   "execution_count": 9,
   "metadata": {},
   "outputs": [
    {
     "name": "stderr",
     "output_type": "stream",
     "text": [
      "C:\\Users\\pbido\\AppData\\Local\\Temp\\ipykernel_36120\\3442917699.py:9: FutureWarning: The default value of regex will change from True to False in a future version.\n",
      "  df_items['Energy (kcal)'] = df_items['Energy (kcal)'].str.replace(r'[^(]*\\(|\\)[^)]*', '')\n"
     ]
    }
   ],
   "source": [
    "import pandas as pd\n",
    "\n",
    "df_items = pd.read_csv(\"train_unprocessed.csv\")\n",
    "# only keep certain columns\n",
    "df_items = df_items[['item', 'Energy', 'Fat', 'Saturated fat', 'Carbohydrates', 'Sugars', 'Proteins', 'Fruits‚ vegetables‚ nuts and rapeseed‚ walnut and olive oils (estimate from ingredients list analysis)', 'nutriscore']]\n",
    "# add units to column names and remove from entries\n",
    "df_items.columns = ['item', 'Energy (kcal)', 'Fat (g)', 'Saturated fat (g)', 'Carbohydrates (g)', 'Sugars (g)', 'Proteins (g)', 'Fruits (%)', 'nutriscore']\n",
    "# replace energy with just the number of kcal\n",
    "df_items['Energy (kcal)'] = df_items['Energy (kcal)'].str.replace(r'[^(]*\\(|\\)[^)]*', '')\n",
    "df_items['Energy (kcal)'] = df_items['Energy (kcal)'].str.replace('kcal', '')\n",
    "df_items['Fruits (%)'] = df_items['Fruits (%)'].str.replace('%', '')\n",
    "# replace all g with just the number\n",
    "to_change = ['Fat (g)', 'Saturated fat (g)', 'Carbohydrates (g)', 'Sugars (g)', 'Proteins (g)']\n",
    "for i in to_change:\n",
    "    df_items[i] = df_items[i].str.replace('g', '')\n",
    "\n",
    "# for all columns, except for item and nutriscore drop non numberical entries\n",
    "for i in df_items.columns:\n",
    "    if i != 'item' and i != 'nutriscore':\n",
    "        df_items[i] = pd.to_numeric(df_items[i], errors='coerce')\n",
    "\n",
    "# drop rows with NaN values\n",
    "df_items.dropna(inplace=True)"
   ]
  },
  {
   "cell_type": "code",
   "execution_count": 8,
   "metadata": {},
   "outputs": [],
   "source": [
    "df_items.to_csv(\"train_final_2.csv\")"
   ]
  },
  {
   "cell_type": "code",
   "execution_count": 4,
   "metadata": {},
   "outputs": [],
   "source": [
    "import pandas as pd\n",
    "\n",
    "df_items = pd.read_csv(\"train_final.csv\")\n",
    "\n",
    "to_change = ['Fat (g)', 'Saturated fat (g)', 'Carbohydrates (g)', 'Sugars (g)', 'Proteins (g)']\n",
    "for i in to_change:\n",
    "    df_items[i] = (df_items[i] * df_items[i].std() + df_items[i].mean()) \n",
    "\n",
    "df_items.to_csv(\"train_final.csv\")"
   ]
  },
  {
   "attachments": {},
   "cell_type": "markdown",
   "metadata": {},
   "source": [
    "### We now have a CSV with the processed dataframe and it is ready to be used for training by our model"
   ]
  }
 ],
 "metadata": {
  "kernelspec": {
   "display_name": "Python 3",
   "language": "python",
   "name": "python3"
  },
  "language_info": {
   "codemirror_mode": {
    "name": "ipython",
    "version": 3
   },
   "file_extension": ".py",
   "mimetype": "text/x-python",
   "name": "python",
   "nbconvert_exporter": "python",
   "pygments_lexer": "ipython3",
   "version": "3.10.11"
  },
  "orig_nbformat": 4
 },
 "nbformat": 4,
 "nbformat_minor": 2
}
