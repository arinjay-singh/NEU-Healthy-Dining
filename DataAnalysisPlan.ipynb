{
 "cells": [
  {
   "attachments": {},
   "cell_type": "markdown",
   "metadata": {},
   "source": [
    "# Central Motivation for Project"
   ]
  },
  {
   "attachments": {},
   "cell_type": "markdown",
   "metadata": {},
   "source": [
    "The central goal of this project is to help students decide on three nutricious and \"healthy\" meals that are optimized for their needed nutritional intake. "
   ]
  },
  {
   "attachments": {},
   "cell_type": "markdown",
   "metadata": {},
   "source": [
    "# Visualization of the Data"
   ]
  },
  {
   "cell_type": "code",
   "execution_count": 1,
   "metadata": {},
   "outputs": [],
   "source": [
    "import requests\n",
    "import pandas as pd"
   ]
  },
  {
   "cell_type": "code",
   "execution_count": 2,
   "metadata": {},
   "outputs": [],
   "source": [
    "def find_periods(date):\n",
    "    '''This function takes a date as input and returns the periods associated \n",
    "    with the date from the Dine On Campus API. We need to do this because the\n",
    "    API changes the period id frequently. Periods represent the time of day\n",
    "    (breakfast, lunch, dinner, etc.).\n",
    "    \n",
    "    Args:\n",
    "        date (str): The date to search for in the format YYYY-M-DD\n",
    "        \n",
    "    Returns:\n",
    "        periods_dict (dict): The dict of periods associated with the date; \n",
    "        empty if no periods found for date\n",
    "    '''\n",
    "\n",
    "    # create an empty dictionary to store the periods\n",
    "    periods_dict = dict()\n",
    "\n",
    "    # call the API to get the json information.\n",
    "    url = \"https://api.dineoncampus.com/v1/location/586d05e4ee596f6e6c04b527/periods?platform=0&date=\" + date\n",
    "    req = requests.get(url)\n",
    "\n",
    "    # format the response as json\n",
    "    data = req.json()\n",
    "\n",
    "    # get the periods from the json\n",
    "    periods = data.get(\"periods\")\n",
    "\n",
    "    # for each of the periods found\n",
    "    for period in periods:\n",
    "        # add the name and id to the dictionary\n",
    "        periods_dict[period.get(\"name\")] = period.get(\"id\")\n",
    "\n",
    "    # return the final dictionary\n",
    "    return periods_dict\n"
   ]
  },
  {
   "cell_type": "code",
   "execution_count": 3,
   "metadata": {},
   "outputs": [],
   "source": [
    "def get_menu(date, meal):\n",
    "    '''Returns a dataframe containing the menu for a given date\n",
    "    and all of its nutritional information.\n",
    "    \n",
    "    Args:\n",
    "        date (str): The date to search for in the format YYYY-M-DD\n",
    "\n",
    "    Returns:\n",
    "        DataFrame: A dataframe containing the menu for the given date;\n",
    "        empty if no menu found for date provided\n",
    "    '''\n",
    "    periods = find_periods(date)\n",
    "\n",
    "    final_df = pd.DataFrame(columns=['food'])\n",
    "    final_df = final_df.set_index('food')\n",
    "\n",
    "    for period in periods.keys():\n",
    "        if (period != meal):\n",
    "            continue\n",
    "        \n",
    "        url = \"https://api.dineoncampus.com/v1/location/586d05e4ee596f6e6c04b527/periods/\" + periods[period] + \"?platform=0&date=\" + date\n",
    "        req = requests.get(url)\n",
    "        # get req as json\n",
    "        data = req.json()\n",
    "        # get the catagories of food\n",
    "        catagories = data.get('menu').get('periods').get('categories')\n",
    "\n",
    "        pd_food = pd.DataFrame(columns=['food'])\n",
    "        pd_food = pd_food.set_index('food')\n",
    "\n",
    "        # for each catagory\n",
    "        for catagory in catagories:\n",
    "            items = catagory.get('items')\n",
    "            # for each food in the catagory\n",
    "            for food in items:\n",
    "                name = food.get('name')\n",
    "                nutrients = food.get('nutrients')\n",
    "                portion = food.get('portion')\n",
    "                for nutrient in nutrients:\n",
    "                    nutrient_name = nutrient.get('name')\n",
    "                    nutrient_value = nutrient.get('value_numeric')\n",
    "                    pd_food.at[name, nutrient_name] = nutrient_value\n",
    "                pd_food.at[name, 'Serving Size'] = portion\n",
    "        \n",
    "        final_df = pd.concat([final_df, pd_food], sort=True)\n",
    "\n",
    "    return final_df\n",
    "    "
   ]
  },
  {
   "cell_type": "code",
   "execution_count": 4,
   "metadata": {},
   "outputs": [],
   "source": [
    "# this takes a while to run due to the slow API from Dine On Campus\n",
    "food_data_breakfast = get_menu(\"2023-3-24\", \"Breakfast\")\n",
    "food_data_lunch = get_menu(\"2023-3-24\", \"Lunch\")\n",
    "food_data_dinner = get_menu(\"2023-3-24\", \"Dinner\")"
   ]
  },
  {
   "cell_type": "code",
   "execution_count": 5,
   "metadata": {},
   "outputs": [],
   "source": [
    "import plotly.express as px"
   ]
  },
  {
   "cell_type": "code",
   "execution_count": 6,
   "metadata": {},
   "outputs": [],
   "source": [
    "calories_breakfast = food_data_breakfast['Calories'].apply(pd.to_numeric)\n",
    "fat_lunch = food_data_lunch['Total Fat (g)'].apply(pd.to_numeric)"
   ]
  },
  {
   "cell_type": "code",
   "execution_count": 7,
   "metadata": {},
   "outputs": [
    {
     "data": {
      "application/vnd.plotly.v1+json": {
       "config": {
        "plotlyServerURL": "https://plot.ly"
       },
       "data": [
        {
         "alignmentgroup": "True",
         "hovertemplate": "food=%{x}<br>Calories=%{y}<extra></extra>",
         "legendgroup": "",
         "marker": {
          "color": "#636efa",
          "pattern": {
           "shape": ""
          }
         },
         "name": "",
         "offsetgroup": "",
         "orientation": "v",
         "showlegend": false,
         "textposition": "auto",
         "type": "bar",
         "x": [
          "Ham, Egg, Cheese Breakfast Pizza",
          "Cheese Pizza",
          "Scrambled Eggs",
          "Chicken Kielbasa Sausage",
          "Thyme Roasted Potatoes",
          "Sauteed Spinach",
          "Meatless Sausage Link",
          "Free Range Eggs",
          "Eggs",
          "Egg Whites",
          "Diced Red Bell Peppers",
          "Diced Tomatoes",
          "Baby Spinach",
          "Sliced Mushrooms",
          "Chopped Green Bell Pepper",
          " Diced Onions",
          "Diced Bacon",
          "Italian Sausage Crumbles",
          "Shredded Sharp American Cheese",
          "Sour Cream and Chive Scrambled Eggs",
          "Pancakes",
          "old fashioned oatmeal",
          "Hard Boiled Eggs",
          "Cinnamon Sugar",
          "Brown Sugar Topping",
          "Dried Cranberries",
          "Plain Bagel",
          "Cinnamon Raisin Bagel",
          "Everything Bagel",
          "Mini Croissant",
          "Blueberry Muffin",
          "Cinnamon Twist ",
          "Fat Free Cottage Cheese",
          "Cream Cheese",
          "Strawberry Cream Cheese",
          "Butter PC",
          "Margarine, Smart Balance, 5g",
          "Watermelon",
          "Red Seedless Grapes",
          "Cubed Pineapple",
          "Cubed Cantaloupe",
          "2% Milk",
          "Skim Milk",
          "Low Fat Chocolate Milk",
          "Unsweetened Almond Milk",
          "Rice Milk",
          "Soy Milk",
          "Coffee",
          "Tea Bag, Hot",
          "Grapefruit",
          "Apple",
          "Granny Smith Apple",
          "Banana",
          "Orange",
          "Low Fat Strawberry Yogurt",
          "Low Fat Vanilla Yogurt",
          "Granola",
          "Lemon Wedge",
          "Honey",
          "Creamy Peanut Butter",
          "Nutella",
          "Grape Jelly",
          "Orange Marmalade",
          "Strawberry Jelly Preserves",
          "Unsalted Butter",
          "Smart Balance Margarine",
          "1% Cottage Cheese",
          "Mild Picante Salsa",
          "Semi Sweet Chocolate Chips",
          "Oreo Crumbles",
          "Shredded Coconut",
          "Syrup",
          "Waffle Batter",
          "Cheerios",
          "Rice Chex",
          "Cocoa Puffs",
          "Lucky Charms",
          "Cinnamon Toast Crunch",
          "Total Raisin Bran",
          "Peanut Butter, .75 oz, Jif",
          "Jelly, Assorted"
         ],
         "xaxis": "x",
         "y": [
          330,
          200,
          200,
          120,
          110,
          25,
          35,
          80,
          90,
          30,
          10,
          10,
          0,
          0,
          0,
          15,
          45,
          70,
          25,
          280,
          170,
          70,
          140,
          110,
          800,
          110,
          300,
          310,
          300,
          110,
          360,
          60,
          25,
          50,
          100,
          70,
          30,
          90,
          25,
          20,
          15,
          120,
          80,
          160,
          0,
          110,
          130,
          0,
          0,
          35,
          70,
          70,
          90,
          60,
          110,
          110,
          220,
          0,
          60,
          100,
          100,
          60,
          50,
          60,
          100,
          90,
          40,
          10,
          50,
          35,
          30,
          90,
          310,
          100,
          110,
          140,
          140,
          170,
          180,
          130,
          40
         ],
         "yaxis": "y"
        }
       ],
       "layout": {
        "barmode": "relative",
        "legend": {
         "tracegroupgap": 0
        },
        "template": {
         "data": {
          "bar": [
           {
            "error_x": {
             "color": "#2a3f5f"
            },
            "error_y": {
             "color": "#2a3f5f"
            },
            "marker": {
             "line": {
              "color": "#E5ECF6",
              "width": 0.5
             },
             "pattern": {
              "fillmode": "overlay",
              "size": 10,
              "solidity": 0.2
             }
            },
            "type": "bar"
           }
          ],
          "barpolar": [
           {
            "marker": {
             "line": {
              "color": "#E5ECF6",
              "width": 0.5
             },
             "pattern": {
              "fillmode": "overlay",
              "size": 10,
              "solidity": 0.2
             }
            },
            "type": "barpolar"
           }
          ],
          "carpet": [
           {
            "aaxis": {
             "endlinecolor": "#2a3f5f",
             "gridcolor": "white",
             "linecolor": "white",
             "minorgridcolor": "white",
             "startlinecolor": "#2a3f5f"
            },
            "baxis": {
             "endlinecolor": "#2a3f5f",
             "gridcolor": "white",
             "linecolor": "white",
             "minorgridcolor": "white",
             "startlinecolor": "#2a3f5f"
            },
            "type": "carpet"
           }
          ],
          "choropleth": [
           {
            "colorbar": {
             "outlinewidth": 0,
             "ticks": ""
            },
            "type": "choropleth"
           }
          ],
          "contour": [
           {
            "colorbar": {
             "outlinewidth": 0,
             "ticks": ""
            },
            "colorscale": [
             [
              0,
              "#0d0887"
             ],
             [
              0.1111111111111111,
              "#46039f"
             ],
             [
              0.2222222222222222,
              "#7201a8"
             ],
             [
              0.3333333333333333,
              "#9c179e"
             ],
             [
              0.4444444444444444,
              "#bd3786"
             ],
             [
              0.5555555555555556,
              "#d8576b"
             ],
             [
              0.6666666666666666,
              "#ed7953"
             ],
             [
              0.7777777777777778,
              "#fb9f3a"
             ],
             [
              0.8888888888888888,
              "#fdca26"
             ],
             [
              1,
              "#f0f921"
             ]
            ],
            "type": "contour"
           }
          ],
          "contourcarpet": [
           {
            "colorbar": {
             "outlinewidth": 0,
             "ticks": ""
            },
            "type": "contourcarpet"
           }
          ],
          "heatmap": [
           {
            "colorbar": {
             "outlinewidth": 0,
             "ticks": ""
            },
            "colorscale": [
             [
              0,
              "#0d0887"
             ],
             [
              0.1111111111111111,
              "#46039f"
             ],
             [
              0.2222222222222222,
              "#7201a8"
             ],
             [
              0.3333333333333333,
              "#9c179e"
             ],
             [
              0.4444444444444444,
              "#bd3786"
             ],
             [
              0.5555555555555556,
              "#d8576b"
             ],
             [
              0.6666666666666666,
              "#ed7953"
             ],
             [
              0.7777777777777778,
              "#fb9f3a"
             ],
             [
              0.8888888888888888,
              "#fdca26"
             ],
             [
              1,
              "#f0f921"
             ]
            ],
            "type": "heatmap"
           }
          ],
          "heatmapgl": [
           {
            "colorbar": {
             "outlinewidth": 0,
             "ticks": ""
            },
            "colorscale": [
             [
              0,
              "#0d0887"
             ],
             [
              0.1111111111111111,
              "#46039f"
             ],
             [
              0.2222222222222222,
              "#7201a8"
             ],
             [
              0.3333333333333333,
              "#9c179e"
             ],
             [
              0.4444444444444444,
              "#bd3786"
             ],
             [
              0.5555555555555556,
              "#d8576b"
             ],
             [
              0.6666666666666666,
              "#ed7953"
             ],
             [
              0.7777777777777778,
              "#fb9f3a"
             ],
             [
              0.8888888888888888,
              "#fdca26"
             ],
             [
              1,
              "#f0f921"
             ]
            ],
            "type": "heatmapgl"
           }
          ],
          "histogram": [
           {
            "marker": {
             "pattern": {
              "fillmode": "overlay",
              "size": 10,
              "solidity": 0.2
             }
            },
            "type": "histogram"
           }
          ],
          "histogram2d": [
           {
            "colorbar": {
             "outlinewidth": 0,
             "ticks": ""
            },
            "colorscale": [
             [
              0,
              "#0d0887"
             ],
             [
              0.1111111111111111,
              "#46039f"
             ],
             [
              0.2222222222222222,
              "#7201a8"
             ],
             [
              0.3333333333333333,
              "#9c179e"
             ],
             [
              0.4444444444444444,
              "#bd3786"
             ],
             [
              0.5555555555555556,
              "#d8576b"
             ],
             [
              0.6666666666666666,
              "#ed7953"
             ],
             [
              0.7777777777777778,
              "#fb9f3a"
             ],
             [
              0.8888888888888888,
              "#fdca26"
             ],
             [
              1,
              "#f0f921"
             ]
            ],
            "type": "histogram2d"
           }
          ],
          "histogram2dcontour": [
           {
            "colorbar": {
             "outlinewidth": 0,
             "ticks": ""
            },
            "colorscale": [
             [
              0,
              "#0d0887"
             ],
             [
              0.1111111111111111,
              "#46039f"
             ],
             [
              0.2222222222222222,
              "#7201a8"
             ],
             [
              0.3333333333333333,
              "#9c179e"
             ],
             [
              0.4444444444444444,
              "#bd3786"
             ],
             [
              0.5555555555555556,
              "#d8576b"
             ],
             [
              0.6666666666666666,
              "#ed7953"
             ],
             [
              0.7777777777777778,
              "#fb9f3a"
             ],
             [
              0.8888888888888888,
              "#fdca26"
             ],
             [
              1,
              "#f0f921"
             ]
            ],
            "type": "histogram2dcontour"
           }
          ],
          "mesh3d": [
           {
            "colorbar": {
             "outlinewidth": 0,
             "ticks": ""
            },
            "type": "mesh3d"
           }
          ],
          "parcoords": [
           {
            "line": {
             "colorbar": {
              "outlinewidth": 0,
              "ticks": ""
             }
            },
            "type": "parcoords"
           }
          ],
          "pie": [
           {
            "automargin": true,
            "type": "pie"
           }
          ],
          "scatter": [
           {
            "fillpattern": {
             "fillmode": "overlay",
             "size": 10,
             "solidity": 0.2
            },
            "type": "scatter"
           }
          ],
          "scatter3d": [
           {
            "line": {
             "colorbar": {
              "outlinewidth": 0,
              "ticks": ""
             }
            },
            "marker": {
             "colorbar": {
              "outlinewidth": 0,
              "ticks": ""
             }
            },
            "type": "scatter3d"
           }
          ],
          "scattercarpet": [
           {
            "marker": {
             "colorbar": {
              "outlinewidth": 0,
              "ticks": ""
             }
            },
            "type": "scattercarpet"
           }
          ],
          "scattergeo": [
           {
            "marker": {
             "colorbar": {
              "outlinewidth": 0,
              "ticks": ""
             }
            },
            "type": "scattergeo"
           }
          ],
          "scattergl": [
           {
            "marker": {
             "colorbar": {
              "outlinewidth": 0,
              "ticks": ""
             }
            },
            "type": "scattergl"
           }
          ],
          "scattermapbox": [
           {
            "marker": {
             "colorbar": {
              "outlinewidth": 0,
              "ticks": ""
             }
            },
            "type": "scattermapbox"
           }
          ],
          "scatterpolar": [
           {
            "marker": {
             "colorbar": {
              "outlinewidth": 0,
              "ticks": ""
             }
            },
            "type": "scatterpolar"
           }
          ],
          "scatterpolargl": [
           {
            "marker": {
             "colorbar": {
              "outlinewidth": 0,
              "ticks": ""
             }
            },
            "type": "scatterpolargl"
           }
          ],
          "scatterternary": [
           {
            "marker": {
             "colorbar": {
              "outlinewidth": 0,
              "ticks": ""
             }
            },
            "type": "scatterternary"
           }
          ],
          "surface": [
           {
            "colorbar": {
             "outlinewidth": 0,
             "ticks": ""
            },
            "colorscale": [
             [
              0,
              "#0d0887"
             ],
             [
              0.1111111111111111,
              "#46039f"
             ],
             [
              0.2222222222222222,
              "#7201a8"
             ],
             [
              0.3333333333333333,
              "#9c179e"
             ],
             [
              0.4444444444444444,
              "#bd3786"
             ],
             [
              0.5555555555555556,
              "#d8576b"
             ],
             [
              0.6666666666666666,
              "#ed7953"
             ],
             [
              0.7777777777777778,
              "#fb9f3a"
             ],
             [
              0.8888888888888888,
              "#fdca26"
             ],
             [
              1,
              "#f0f921"
             ]
            ],
            "type": "surface"
           }
          ],
          "table": [
           {
            "cells": {
             "fill": {
              "color": "#EBF0F8"
             },
             "line": {
              "color": "white"
             }
            },
            "header": {
             "fill": {
              "color": "#C8D4E3"
             },
             "line": {
              "color": "white"
             }
            },
            "type": "table"
           }
          ]
         },
         "layout": {
          "annotationdefaults": {
           "arrowcolor": "#2a3f5f",
           "arrowhead": 0,
           "arrowwidth": 1
          },
          "autotypenumbers": "strict",
          "coloraxis": {
           "colorbar": {
            "outlinewidth": 0,
            "ticks": ""
           }
          },
          "colorscale": {
           "diverging": [
            [
             0,
             "#8e0152"
            ],
            [
             0.1,
             "#c51b7d"
            ],
            [
             0.2,
             "#de77ae"
            ],
            [
             0.3,
             "#f1b6da"
            ],
            [
             0.4,
             "#fde0ef"
            ],
            [
             0.5,
             "#f7f7f7"
            ],
            [
             0.6,
             "#e6f5d0"
            ],
            [
             0.7,
             "#b8e186"
            ],
            [
             0.8,
             "#7fbc41"
            ],
            [
             0.9,
             "#4d9221"
            ],
            [
             1,
             "#276419"
            ]
           ],
           "sequential": [
            [
             0,
             "#0d0887"
            ],
            [
             0.1111111111111111,
             "#46039f"
            ],
            [
             0.2222222222222222,
             "#7201a8"
            ],
            [
             0.3333333333333333,
             "#9c179e"
            ],
            [
             0.4444444444444444,
             "#bd3786"
            ],
            [
             0.5555555555555556,
             "#d8576b"
            ],
            [
             0.6666666666666666,
             "#ed7953"
            ],
            [
             0.7777777777777778,
             "#fb9f3a"
            ],
            [
             0.8888888888888888,
             "#fdca26"
            ],
            [
             1,
             "#f0f921"
            ]
           ],
           "sequentialminus": [
            [
             0,
             "#0d0887"
            ],
            [
             0.1111111111111111,
             "#46039f"
            ],
            [
             0.2222222222222222,
             "#7201a8"
            ],
            [
             0.3333333333333333,
             "#9c179e"
            ],
            [
             0.4444444444444444,
             "#bd3786"
            ],
            [
             0.5555555555555556,
             "#d8576b"
            ],
            [
             0.6666666666666666,
             "#ed7953"
            ],
            [
             0.7777777777777778,
             "#fb9f3a"
            ],
            [
             0.8888888888888888,
             "#fdca26"
            ],
            [
             1,
             "#f0f921"
            ]
           ]
          },
          "colorway": [
           "#636efa",
           "#EF553B",
           "#00cc96",
           "#ab63fa",
           "#FFA15A",
           "#19d3f3",
           "#FF6692",
           "#B6E880",
           "#FF97FF",
           "#FECB52"
          ],
          "font": {
           "color": "#2a3f5f"
          },
          "geo": {
           "bgcolor": "white",
           "lakecolor": "white",
           "landcolor": "#E5ECF6",
           "showlakes": true,
           "showland": true,
           "subunitcolor": "white"
          },
          "hoverlabel": {
           "align": "left"
          },
          "hovermode": "closest",
          "mapbox": {
           "style": "light"
          },
          "paper_bgcolor": "white",
          "plot_bgcolor": "#E5ECF6",
          "polar": {
           "angularaxis": {
            "gridcolor": "white",
            "linecolor": "white",
            "ticks": ""
           },
           "bgcolor": "#E5ECF6",
           "radialaxis": {
            "gridcolor": "white",
            "linecolor": "white",
            "ticks": ""
           }
          },
          "scene": {
           "xaxis": {
            "backgroundcolor": "#E5ECF6",
            "gridcolor": "white",
            "gridwidth": 2,
            "linecolor": "white",
            "showbackground": true,
            "ticks": "",
            "zerolinecolor": "white"
           },
           "yaxis": {
            "backgroundcolor": "#E5ECF6",
            "gridcolor": "white",
            "gridwidth": 2,
            "linecolor": "white",
            "showbackground": true,
            "ticks": "",
            "zerolinecolor": "white"
           },
           "zaxis": {
            "backgroundcolor": "#E5ECF6",
            "gridcolor": "white",
            "gridwidth": 2,
            "linecolor": "white",
            "showbackground": true,
            "ticks": "",
            "zerolinecolor": "white"
           }
          },
          "shapedefaults": {
           "line": {
            "color": "#2a3f5f"
           }
          },
          "ternary": {
           "aaxis": {
            "gridcolor": "white",
            "linecolor": "white",
            "ticks": ""
           },
           "baxis": {
            "gridcolor": "white",
            "linecolor": "white",
            "ticks": ""
           },
           "bgcolor": "#E5ECF6",
           "caxis": {
            "gridcolor": "white",
            "linecolor": "white",
            "ticks": ""
           }
          },
          "title": {
           "x": 0.05
          },
          "xaxis": {
           "automargin": true,
           "gridcolor": "white",
           "linecolor": "white",
           "ticks": "",
           "title": {
            "standoff": 15
           },
           "zerolinecolor": "white",
           "zerolinewidth": 2
          },
          "yaxis": {
           "automargin": true,
           "gridcolor": "white",
           "linecolor": "white",
           "ticks": "",
           "title": {
            "standoff": 15
           },
           "zerolinecolor": "white",
           "zerolinewidth": 2
          }
         }
        },
        "title": {
         "text": "Calories in Breakfast Foods"
        },
        "xaxis": {
         "anchor": "y",
         "domain": [
          0,
          1
         ],
         "title": {
          "text": "food"
         }
        },
        "yaxis": {
         "anchor": "x",
         "domain": [
          0,
          1
         ],
         "title": {
          "text": "Calories"
         }
        }
       }
      }
     },
     "metadata": {},
     "output_type": "display_data"
    }
   ],
   "source": [
    "fig = px.bar(calories_breakfast, x=calories_breakfast.index, y=\"Calories\", title=\"Calories in Breakfast Foods\", )\n",
    "fig.show()"
   ]
  },
  {
   "cell_type": "code",
   "execution_count": 8,
   "metadata": {},
   "outputs": [
    {
     "data": {
      "application/vnd.plotly.v1+json": {
       "config": {
        "plotlyServerURL": "https://plot.ly"
       },
       "data": [
        {
         "alignmentgroup": "True",
         "hovertemplate": "food=%{x}<br>Total Fat (g)=%{y}<extra></extra>",
         "legendgroup": "",
         "marker": {
          "color": "#636efa",
          "pattern": {
           "shape": ""
          }
         },
         "name": "",
         "offsetgroup": "",
         "orientation": "v",
         "showlegend": false,
         "textposition": "auto",
         "type": "bar",
         "x": [
          "Baked Vegetable Ziti",
          "Garlic Breadstick ",
          "Cheese Pizza",
          "Sausage Pepper and Onion Pizza",
          "Chicken Parmesan Calzone",
          "Grated Parmesan Cheese",
          "Crushed Red Pepper",
          "Dried Oregano",
          "Slice Garlic Knots",
          "Marinara Sauce",
          "Shrimp Etouffee",
          "Steamed Rice",
          "Garlic Roasted Broccoli and Cauliflower",
          "Parmesan Tomato",
          "Naan Bread",
          "Moroccan Lamb and Tomato",
          "Samosa Chaat",
          "Basmati Rice",
          "Tahini Sauce",
          "creamy overnight oats",
          "Blueberries",
          "Semi Sweet Chocolate Chips",
          "White Chocolate Chips",
          "Shredded Coconut",
          "Oats 'n Honey Granola",
          "Roasted Sunflower Seeds",
          "Dried Cranberries",
          "Golden Raisins",
          "Pitted Dates",
          "Free Range Eggs",
          "Eggs",
          "Egg Whites",
          "Diced Red Bell Peppers",
          "Diced Tomatoes",
          "Baby Spinach",
          "Sliced Mushrooms",
          "Chopped Green Bell Pepper",
          " Diced Onions",
          "Diced Bacon",
          "Italian Sausage Crumbles",
          "Shredded Sharp American Cheese",
          "Hamburger Patty",
          "Grilled Chicken",
          "All Beef Hot Dog",
          "Onions and Peppers",
          "French Fries",
          "White Hot Dog Bun",
          "White Hamburger Bun",
          "American Cheese Slice",
          "Ratatouille with Cannellini Beans",
          "Roasted Broccoli",
          "Garlic & Herb Olive Oil Mashed Potatoes ",
          "Steamed Corn Kernels",
          "tomato soup with garden vegetables",
          "Classic Hummus",
          "Baked Marinated Tofu",
          "Fresh Cantaloupe ",
          "Black Bean and Corn Salad",
          "Red Potato Salad",
          "Beet Salad",
          "Edamame",
          "Marinated Olives",
          "Wing Seasoned Chicken Thigh Bites",
          "FIT Tuna Salad",
          "Chicken Salad",
          "Sliced Smoked Ham",
          "Thinly Sliced Deli Turkey Breast",
          "Sliced Capicola",
          "Sliced Genoa Salami",
          "Traditional Hummus",
          "Sliced Swiss Cheese",
          "Sliced Sharp Cheddar Cheese",
          "Sliced Provolone Cheese",
          "Sliced Pepper Jack Cheese",
          "Sliced Jalapeno Pepper",
          "Banana Pepper Rings",
          "Sliced Cucumber",
          "Homemade Potato Chips",
          "Sliced Tomatoes",
          "Sliced Red Bell Pepper",
          "Sliced Red Onion",
          "Bread & Butter Pickles",
          "Chopped Romaine Lettuce",
          "Pesto Mayonnaise",
          "Mayonnaise",
          "Chipotle Garlic Ranch",
          "Dijon Honey Dressing",
          "Yellow Mustard",
          "Creamy Caesar Dressing",
          "Whole Wheat Bread",
          "12\" Garlic Herb Flour Tortilla",
          "12\" Spinach Herb Tortilla",
          "12\" Whole Wheat Flour Tortilla",
          "12\" Tomato Basil Flour Tortilla",
          "Signature Bread, Wheat",
          "Signature Bread, White",
          "Olive Oil",
          "Red Wine Vinegar",
          "Grilled Cheese & Tomato Sandwich",
          "Chicken Noodle Soup",
          "Crackers, Oyster, Zesta, Keebler, 0.5 oz",
          "Chocolate Chip Cookies",
          "Sugar Cookies",
          "Chocolate Cake with Chocolate Frosting",
          "Iced Brownies",
          "Romaine Lettuce",
          "Mixed Greens Spring Mix",
          "Fresh Baby Spinach",
          "Fresh Tomatoes",
          "Fresh Carrots",
          "Fresh Cucumbers",
          "Fresh Celery",
          "Fresh Mushrooms",
          "Peppers",
          "Black Olives",
          "Red Onions",
          "Fresh Broccoli",
          "Roasted Butternut Squash",
          "Roasted Corn",
          "Curry Roasted Cauliflower",
          "Parmesan Cheese",
          "Cheddar Cheese",
          "Hard Boiled Egg",
          "california pasta salad",
          "Three Bean Salad",
          "Quinoa Salad",
          "Toasted Sesame Dressing",
          "Ranch",
          "Italian Dressing",
          "Balsamic Vinaigrette Dressing",
          "Fat Free Raspberry Dressing",
          "Mediterranean Quinoa Salad",
          "Citrus Wild Rice Salad",
          "Kale Salad with Beets and Citrus Vinaigrette",
          "Mediterranean Chopped Salad",
          "Shredded Vegan Cheddar Cheese",
          "Garbanzo Beans",
          "Black Beans",
          "Salsa",
          "Sweet and Sour Tofu",
          "Tempeh",
          "Hummus",
          "Dark Red Kidney Beans",
          "Lettuce Leaf",
          "Sliced Dill Pickles",
          "Cilantro Lime Slaw with Fish Sauce",
          "Dill Relish",
          "Sriracha Ketchup",
          "Jalapeno Peppers",
          "Sweet Thai Chili Sauce",
          "Shredded Cheddar Cheese",
          "Fried Tortilla Strips",
          "Baked Wonton Strips",
          "Sunflower Seeds",
          "Raisins",
          "Croutons",
          "Balsamic Vinegar",
          "Red Wine Vinegar ",
          "Canola Oil",
          "Soy Sauce",
          "Seasoned Rice Vinegar",
          "2% Milk",
          "Skim Milk",
          "Low Fat Chocolate Milk",
          "Unsweetened Almond Milk",
          "Rice Milk",
          "Soy Milk",
          "Coffee",
          "Tea Bag, Hot",
          "Grapefruit",
          "Apple",
          "Granny Smith Apple",
          "Banana",
          "Orange",
          "Low Fat Strawberry Yogurt",
          "Low Fat Vanilla Yogurt",
          "Granola",
          "Lemon Wedge",
          "Honey",
          "Creamy Peanut Butter",
          "Nutella",
          "Grape Jelly",
          "Orange Marmalade",
          "Strawberry Jelly Preserves",
          "Cream Cheese",
          "Unsalted Butter",
          "Smart Balance Margarine",
          "1% Cottage Cheese",
          "Mild Picante Salsa",
          "Oreo Crumbles",
          "Syrup",
          "Waffle Batter",
          "Cheerios",
          "Rice Chex",
          "Cocoa Puffs",
          "Lucky Charms",
          "Cinnamon Toast Crunch",
          "Total Raisin Bran",
          "Peanut Butter, .75 oz, Jif",
          "Jelly, Assorted"
         ],
         "xaxis": "x",
         "y": [
          7,
          3,
          10,
          16,
          16,
          1.5,
          0,
          0,
          10,
          0,
          12,
          0,
          4,
          4,
          0.5,
          5,
          6,
          0,
          4,
          4,
          0,
          3,
          9,
          2,
          4.5,
          4,
          0,
          0,
          0,
          6,
          6,
          0,
          0,
          0,
          0,
          0,
          0,
          0,
          3.5,
          5,
          2,
          15,
          7,
          17,
          11,
          10,
          1.5,
          2,
          4.5,
          4,
          2,
          6,
          2.5,
          4,
          8,
          4.5,
          0,
          2,
          8,
          3.5,
          6,
          6,
          6,
          6,
          9,
          1.5,
          1,
          1,
          7,
          2,
          9,
          9,
          8,
          9,
          0,
          0,
          0,
          32,
          0,
          0,
          0,
          0,
          0,
          9,
          10,
          14,
          12,
          0.5,
          16,
          1.5,
          9,
          8,
          9,
          9,
          6,
          6,
          27,
          0,
          34,
          1.5,
          1,
          12,
          5,
          5,
          1,
          0,
          0,
          0,
          0,
          0,
          0,
          0,
          0,
          0,
          4,
          0,
          0,
          2.5,
          1.5,
          9,
          5,
          9,
          5,
          3,
          3,
          13,
          4,
          15,
          12,
          4.5,
          0,
          13,
          2,
          12,
          5,
          1.5,
          1,
          0,
          0,
          8,
          1,
          3,
          0,
          0,
          0,
          4.5,
          0,
          0,
          0.5,
          0,
          14,
          1,
          0.5,
          16,
          0,
          0.5,
          0,
          0,
          27,
          0,
          0,
          5,
          0,
          3,
          0,
          2,
          4.5,
          0,
          0,
          0,
          0,
          0,
          0,
          0,
          1.5,
          0.5,
          9,
          0,
          0,
          8,
          6,
          0,
          0,
          0,
          5,
          12,
          10,
          0.5,
          0,
          1.5,
          0,
          4.5,
          2,
          0.5,
          2,
          1.5,
          4,
          1,
          11,
          0
         ],
         "yaxis": "y"
        }
       ],
       "layout": {
        "barmode": "relative",
        "legend": {
         "tracegroupgap": 0
        },
        "template": {
         "data": {
          "bar": [
           {
            "error_x": {
             "color": "#2a3f5f"
            },
            "error_y": {
             "color": "#2a3f5f"
            },
            "marker": {
             "line": {
              "color": "#E5ECF6",
              "width": 0.5
             },
             "pattern": {
              "fillmode": "overlay",
              "size": 10,
              "solidity": 0.2
             }
            },
            "type": "bar"
           }
          ],
          "barpolar": [
           {
            "marker": {
             "line": {
              "color": "#E5ECF6",
              "width": 0.5
             },
             "pattern": {
              "fillmode": "overlay",
              "size": 10,
              "solidity": 0.2
             }
            },
            "type": "barpolar"
           }
          ],
          "carpet": [
           {
            "aaxis": {
             "endlinecolor": "#2a3f5f",
             "gridcolor": "white",
             "linecolor": "white",
             "minorgridcolor": "white",
             "startlinecolor": "#2a3f5f"
            },
            "baxis": {
             "endlinecolor": "#2a3f5f",
             "gridcolor": "white",
             "linecolor": "white",
             "minorgridcolor": "white",
             "startlinecolor": "#2a3f5f"
            },
            "type": "carpet"
           }
          ],
          "choropleth": [
           {
            "colorbar": {
             "outlinewidth": 0,
             "ticks": ""
            },
            "type": "choropleth"
           }
          ],
          "contour": [
           {
            "colorbar": {
             "outlinewidth": 0,
             "ticks": ""
            },
            "colorscale": [
             [
              0,
              "#0d0887"
             ],
             [
              0.1111111111111111,
              "#46039f"
             ],
             [
              0.2222222222222222,
              "#7201a8"
             ],
             [
              0.3333333333333333,
              "#9c179e"
             ],
             [
              0.4444444444444444,
              "#bd3786"
             ],
             [
              0.5555555555555556,
              "#d8576b"
             ],
             [
              0.6666666666666666,
              "#ed7953"
             ],
             [
              0.7777777777777778,
              "#fb9f3a"
             ],
             [
              0.8888888888888888,
              "#fdca26"
             ],
             [
              1,
              "#f0f921"
             ]
            ],
            "type": "contour"
           }
          ],
          "contourcarpet": [
           {
            "colorbar": {
             "outlinewidth": 0,
             "ticks": ""
            },
            "type": "contourcarpet"
           }
          ],
          "heatmap": [
           {
            "colorbar": {
             "outlinewidth": 0,
             "ticks": ""
            },
            "colorscale": [
             [
              0,
              "#0d0887"
             ],
             [
              0.1111111111111111,
              "#46039f"
             ],
             [
              0.2222222222222222,
              "#7201a8"
             ],
             [
              0.3333333333333333,
              "#9c179e"
             ],
             [
              0.4444444444444444,
              "#bd3786"
             ],
             [
              0.5555555555555556,
              "#d8576b"
             ],
             [
              0.6666666666666666,
              "#ed7953"
             ],
             [
              0.7777777777777778,
              "#fb9f3a"
             ],
             [
              0.8888888888888888,
              "#fdca26"
             ],
             [
              1,
              "#f0f921"
             ]
            ],
            "type": "heatmap"
           }
          ],
          "heatmapgl": [
           {
            "colorbar": {
             "outlinewidth": 0,
             "ticks": ""
            },
            "colorscale": [
             [
              0,
              "#0d0887"
             ],
             [
              0.1111111111111111,
              "#46039f"
             ],
             [
              0.2222222222222222,
              "#7201a8"
             ],
             [
              0.3333333333333333,
              "#9c179e"
             ],
             [
              0.4444444444444444,
              "#bd3786"
             ],
             [
              0.5555555555555556,
              "#d8576b"
             ],
             [
              0.6666666666666666,
              "#ed7953"
             ],
             [
              0.7777777777777778,
              "#fb9f3a"
             ],
             [
              0.8888888888888888,
              "#fdca26"
             ],
             [
              1,
              "#f0f921"
             ]
            ],
            "type": "heatmapgl"
           }
          ],
          "histogram": [
           {
            "marker": {
             "pattern": {
              "fillmode": "overlay",
              "size": 10,
              "solidity": 0.2
             }
            },
            "type": "histogram"
           }
          ],
          "histogram2d": [
           {
            "colorbar": {
             "outlinewidth": 0,
             "ticks": ""
            },
            "colorscale": [
             [
              0,
              "#0d0887"
             ],
             [
              0.1111111111111111,
              "#46039f"
             ],
             [
              0.2222222222222222,
              "#7201a8"
             ],
             [
              0.3333333333333333,
              "#9c179e"
             ],
             [
              0.4444444444444444,
              "#bd3786"
             ],
             [
              0.5555555555555556,
              "#d8576b"
             ],
             [
              0.6666666666666666,
              "#ed7953"
             ],
             [
              0.7777777777777778,
              "#fb9f3a"
             ],
             [
              0.8888888888888888,
              "#fdca26"
             ],
             [
              1,
              "#f0f921"
             ]
            ],
            "type": "histogram2d"
           }
          ],
          "histogram2dcontour": [
           {
            "colorbar": {
             "outlinewidth": 0,
             "ticks": ""
            },
            "colorscale": [
             [
              0,
              "#0d0887"
             ],
             [
              0.1111111111111111,
              "#46039f"
             ],
             [
              0.2222222222222222,
              "#7201a8"
             ],
             [
              0.3333333333333333,
              "#9c179e"
             ],
             [
              0.4444444444444444,
              "#bd3786"
             ],
             [
              0.5555555555555556,
              "#d8576b"
             ],
             [
              0.6666666666666666,
              "#ed7953"
             ],
             [
              0.7777777777777778,
              "#fb9f3a"
             ],
             [
              0.8888888888888888,
              "#fdca26"
             ],
             [
              1,
              "#f0f921"
             ]
            ],
            "type": "histogram2dcontour"
           }
          ],
          "mesh3d": [
           {
            "colorbar": {
             "outlinewidth": 0,
             "ticks": ""
            },
            "type": "mesh3d"
           }
          ],
          "parcoords": [
           {
            "line": {
             "colorbar": {
              "outlinewidth": 0,
              "ticks": ""
             }
            },
            "type": "parcoords"
           }
          ],
          "pie": [
           {
            "automargin": true,
            "type": "pie"
           }
          ],
          "scatter": [
           {
            "fillpattern": {
             "fillmode": "overlay",
             "size": 10,
             "solidity": 0.2
            },
            "type": "scatter"
           }
          ],
          "scatter3d": [
           {
            "line": {
             "colorbar": {
              "outlinewidth": 0,
              "ticks": ""
             }
            },
            "marker": {
             "colorbar": {
              "outlinewidth": 0,
              "ticks": ""
             }
            },
            "type": "scatter3d"
           }
          ],
          "scattercarpet": [
           {
            "marker": {
             "colorbar": {
              "outlinewidth": 0,
              "ticks": ""
             }
            },
            "type": "scattercarpet"
           }
          ],
          "scattergeo": [
           {
            "marker": {
             "colorbar": {
              "outlinewidth": 0,
              "ticks": ""
             }
            },
            "type": "scattergeo"
           }
          ],
          "scattergl": [
           {
            "marker": {
             "colorbar": {
              "outlinewidth": 0,
              "ticks": ""
             }
            },
            "type": "scattergl"
           }
          ],
          "scattermapbox": [
           {
            "marker": {
             "colorbar": {
              "outlinewidth": 0,
              "ticks": ""
             }
            },
            "type": "scattermapbox"
           }
          ],
          "scatterpolar": [
           {
            "marker": {
             "colorbar": {
              "outlinewidth": 0,
              "ticks": ""
             }
            },
            "type": "scatterpolar"
           }
          ],
          "scatterpolargl": [
           {
            "marker": {
             "colorbar": {
              "outlinewidth": 0,
              "ticks": ""
             }
            },
            "type": "scatterpolargl"
           }
          ],
          "scatterternary": [
           {
            "marker": {
             "colorbar": {
              "outlinewidth": 0,
              "ticks": ""
             }
            },
            "type": "scatterternary"
           }
          ],
          "surface": [
           {
            "colorbar": {
             "outlinewidth": 0,
             "ticks": ""
            },
            "colorscale": [
             [
              0,
              "#0d0887"
             ],
             [
              0.1111111111111111,
              "#46039f"
             ],
             [
              0.2222222222222222,
              "#7201a8"
             ],
             [
              0.3333333333333333,
              "#9c179e"
             ],
             [
              0.4444444444444444,
              "#bd3786"
             ],
             [
              0.5555555555555556,
              "#d8576b"
             ],
             [
              0.6666666666666666,
              "#ed7953"
             ],
             [
              0.7777777777777778,
              "#fb9f3a"
             ],
             [
              0.8888888888888888,
              "#fdca26"
             ],
             [
              1,
              "#f0f921"
             ]
            ],
            "type": "surface"
           }
          ],
          "table": [
           {
            "cells": {
             "fill": {
              "color": "#EBF0F8"
             },
             "line": {
              "color": "white"
             }
            },
            "header": {
             "fill": {
              "color": "#C8D4E3"
             },
             "line": {
              "color": "white"
             }
            },
            "type": "table"
           }
          ]
         },
         "layout": {
          "annotationdefaults": {
           "arrowcolor": "#2a3f5f",
           "arrowhead": 0,
           "arrowwidth": 1
          },
          "autotypenumbers": "strict",
          "coloraxis": {
           "colorbar": {
            "outlinewidth": 0,
            "ticks": ""
           }
          },
          "colorscale": {
           "diverging": [
            [
             0,
             "#8e0152"
            ],
            [
             0.1,
             "#c51b7d"
            ],
            [
             0.2,
             "#de77ae"
            ],
            [
             0.3,
             "#f1b6da"
            ],
            [
             0.4,
             "#fde0ef"
            ],
            [
             0.5,
             "#f7f7f7"
            ],
            [
             0.6,
             "#e6f5d0"
            ],
            [
             0.7,
             "#b8e186"
            ],
            [
             0.8,
             "#7fbc41"
            ],
            [
             0.9,
             "#4d9221"
            ],
            [
             1,
             "#276419"
            ]
           ],
           "sequential": [
            [
             0,
             "#0d0887"
            ],
            [
             0.1111111111111111,
             "#46039f"
            ],
            [
             0.2222222222222222,
             "#7201a8"
            ],
            [
             0.3333333333333333,
             "#9c179e"
            ],
            [
             0.4444444444444444,
             "#bd3786"
            ],
            [
             0.5555555555555556,
             "#d8576b"
            ],
            [
             0.6666666666666666,
             "#ed7953"
            ],
            [
             0.7777777777777778,
             "#fb9f3a"
            ],
            [
             0.8888888888888888,
             "#fdca26"
            ],
            [
             1,
             "#f0f921"
            ]
           ],
           "sequentialminus": [
            [
             0,
             "#0d0887"
            ],
            [
             0.1111111111111111,
             "#46039f"
            ],
            [
             0.2222222222222222,
             "#7201a8"
            ],
            [
             0.3333333333333333,
             "#9c179e"
            ],
            [
             0.4444444444444444,
             "#bd3786"
            ],
            [
             0.5555555555555556,
             "#d8576b"
            ],
            [
             0.6666666666666666,
             "#ed7953"
            ],
            [
             0.7777777777777778,
             "#fb9f3a"
            ],
            [
             0.8888888888888888,
             "#fdca26"
            ],
            [
             1,
             "#f0f921"
            ]
           ]
          },
          "colorway": [
           "#636efa",
           "#EF553B",
           "#00cc96",
           "#ab63fa",
           "#FFA15A",
           "#19d3f3",
           "#FF6692",
           "#B6E880",
           "#FF97FF",
           "#FECB52"
          ],
          "font": {
           "color": "#2a3f5f"
          },
          "geo": {
           "bgcolor": "white",
           "lakecolor": "white",
           "landcolor": "#E5ECF6",
           "showlakes": true,
           "showland": true,
           "subunitcolor": "white"
          },
          "hoverlabel": {
           "align": "left"
          },
          "hovermode": "closest",
          "mapbox": {
           "style": "light"
          },
          "paper_bgcolor": "white",
          "plot_bgcolor": "#E5ECF6",
          "polar": {
           "angularaxis": {
            "gridcolor": "white",
            "linecolor": "white",
            "ticks": ""
           },
           "bgcolor": "#E5ECF6",
           "radialaxis": {
            "gridcolor": "white",
            "linecolor": "white",
            "ticks": ""
           }
          },
          "scene": {
           "xaxis": {
            "backgroundcolor": "#E5ECF6",
            "gridcolor": "white",
            "gridwidth": 2,
            "linecolor": "white",
            "showbackground": true,
            "ticks": "",
            "zerolinecolor": "white"
           },
           "yaxis": {
            "backgroundcolor": "#E5ECF6",
            "gridcolor": "white",
            "gridwidth": 2,
            "linecolor": "white",
            "showbackground": true,
            "ticks": "",
            "zerolinecolor": "white"
           },
           "zaxis": {
            "backgroundcolor": "#E5ECF6",
            "gridcolor": "white",
            "gridwidth": 2,
            "linecolor": "white",
            "showbackground": true,
            "ticks": "",
            "zerolinecolor": "white"
           }
          },
          "shapedefaults": {
           "line": {
            "color": "#2a3f5f"
           }
          },
          "ternary": {
           "aaxis": {
            "gridcolor": "white",
            "linecolor": "white",
            "ticks": ""
           },
           "baxis": {
            "gridcolor": "white",
            "linecolor": "white",
            "ticks": ""
           },
           "bgcolor": "#E5ECF6",
           "caxis": {
            "gridcolor": "white",
            "linecolor": "white",
            "ticks": ""
           }
          },
          "title": {
           "x": 0.05
          },
          "xaxis": {
           "automargin": true,
           "gridcolor": "white",
           "linecolor": "white",
           "ticks": "",
           "title": {
            "standoff": 15
           },
           "zerolinecolor": "white",
           "zerolinewidth": 2
          },
          "yaxis": {
           "automargin": true,
           "gridcolor": "white",
           "linecolor": "white",
           "ticks": "",
           "title": {
            "standoff": 15
           },
           "zerolinecolor": "white",
           "zerolinewidth": 2
          }
         }
        },
        "title": {
         "text": "Fat in Lunch Foods"
        },
        "xaxis": {
         "anchor": "y",
         "domain": [
          0,
          1
         ],
         "title": {
          "text": "food"
         }
        },
        "yaxis": {
         "anchor": "x",
         "domain": [
          0,
          1
         ],
         "title": {
          "text": "Total Fat (g)"
         }
        }
       }
      }
     },
     "metadata": {},
     "output_type": "display_data"
    }
   ],
   "source": [
    "fig = px.bar(fat_lunch, x=fat_lunch.index, y=\"Total Fat (g)\", title=\"Fat in Lunch Foods\")\n",
    "fig.show()"
   ]
  },
  {
   "attachments": {},
   "cell_type": "markdown",
   "metadata": {},
   "source": [
    "# What ML Tools Will be Used"
   ]
  },
  {
   "attachments": {},
   "cell_type": "markdown",
   "metadata": {},
   "source": [
    "One ML tool we could use is K-Means clustering. This could be used to group foods into catagories of \"healthy\" and \"unhealthy\" foods. This could bring up an issue that the model inacurately groups certain foods that are definetly \"unhealthy\" into the \"healthy\" ones. One fallback for this is to incude weighted instead of normalized features.\n",
    "\n",
    "Another tool we could use is a Random Forest Classifier. We could use data from foods deemed \"healthy\" by the USDA Food and Nutrition services in order to classify foods into \"healthy\" and \"unhealthy\" foods. This can also be acheived by applying a \"healthy\" score and using a Random Forest Regressor. This relies on other data from another source, which could be a bit tedious to combine with our dataset."
   ]
  }
 ],
 "metadata": {
  "kernelspec": {
   "display_name": "Python 3",
   "language": "python",
   "name": "python3"
  },
  "language_info": {
   "codemirror_mode": {
    "name": "ipython",
    "version": 3
   },
   "file_extension": ".py",
   "mimetype": "text/x-python",
   "name": "python",
   "nbconvert_exporter": "python",
   "pygments_lexer": "ipython3",
   "version": "3.10.11"
  },
  "orig_nbformat": 4
 },
 "nbformat": 4,
 "nbformat_minor": 2
}
